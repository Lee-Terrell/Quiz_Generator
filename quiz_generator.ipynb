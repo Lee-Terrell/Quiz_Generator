{
 "cells": [
  {
   "cell_type": "code",
   "execution_count": 3,
   "metadata": {},
   "outputs": [],
   "source": [
    "import os\n",
    "import openai"
   ]
  },
  {
   "cell_type": "code",
   "execution_count": 18,
   "metadata": {},
   "outputs": [],
   "source": [
    "openai.api_key = os.getenv(\"OPENAI_API_KEY\")"
   ]
  },
  {
   "cell_type": "code",
   "execution_count": 12,
   "metadata": {},
   "outputs": [],
   "source": [
    "# Create a function that generates a prompt asking OpenAI to generate a quiz\n",
    "def create_test_prompt(topic,num_questions,num_possible_options):\n",
    "    prompt = f\"Create a multiple choice quiz on the topic of {topic} consisting of {num_questions} questions. \"\\\n",
    "            +f\"Each question should have {num_possible_options} options. \"\\\n",
    "            +f\"Also include the correct answer for each question using the starting string 'Correct Answer:' \"\n",
    "    return prompt"
   ]
  },
  {
   "cell_type": "code",
   "execution_count": 14,
   "metadata": {},
   "outputs": [
    {
     "data": {
      "text/plain": [
       "\"Create a multiple choice quiz on the topic of geology consisting of 4 questions. Each question should have 4 options. Also include the correct answer for each question using the starting string 'Correct Answer:' \""
      ]
     },
     "execution_count": 14,
     "metadata": {},
     "output_type": "execute_result"
    }
   ],
   "source": [
    "# Make sure returned string looks readable\n",
    "create_test_prompt('geology',4,4)"
   ]
  },
  {
   "cell_type": "code",
   "execution_count": 19,
   "metadata": {},
   "outputs": [],
   "source": [
    "# Run prompt through OpenAI Completion API\n",
    "response = openai.Completion.create(engine='text-davinci-003',\n",
    "                                   prompt= create_test_prompt(\"Geology\",4,4),\n",
    "                                   max_tokens = 256,\n",
    "                                   temperature = 0.7)"
   ]
  },
  {
   "cell_type": "code",
   "execution_count": 20,
   "metadata": {},
   "outputs": [
    {
     "name": "stdout",
     "output_type": "stream",
     "text": [
      "\n",
      "\n",
      "1. What is the process of erosion?\n",
      "A) Melting\n",
      "B) Moving\n",
      "C) Breaking\n",
      "D) Growing\n",
      "Correct Answer: B) Moving\n",
      "\n",
      "2. What is the study of the Earth’s history, composition, and structure called?\n",
      "A) Geography\n",
      "B) Paleontology\n",
      "C) Geology\n",
      "D) Ecology\n",
      "Correct Answer: C) Geology\n",
      "\n",
      "3. What is the study of fossils called?\n",
      "A) Geology\n",
      "B) Paleontology\n",
      "C) Ecology\n",
      "D) Geography\n",
      "Correct Answer: B) Paleontology\n",
      "\n",
      "4. What type of rock is formed from solidified lava?\n",
      "A) Metamorphic\n",
      "B) Igneous\n",
      "C) Sedimentary\n",
      "D) Volcanic\n",
      "Correct Answer: B) Igneous\n"
     ]
    }
   ],
   "source": [
    "print(response['choices'][0]['text'])"
   ]
  },
  {
   "cell_type": "code",
   "execution_count": 21,
   "metadata": {},
   "outputs": [],
   "source": [
    "# Create a function that would act as a quiz handout\n",
    "def create_student_view(test,num_questions):\n",
    "    student_view = {1:''}\n",
    "    question_number = 1\n",
    "    for line in test.split('\\n'):\n",
    "        if not line.startswith('Correct Answer:'):\n",
    "            student_view[question_number] += line+'\\n'\n",
    "        else:\n",
    "            if question_number < num_questions:\n",
    "                question_number += 1\n",
    "                student_view[question_number] = ''\n",
    "    return student_view"
   ]
  },
  {
   "cell_type": "code",
   "execution_count": 31,
   "metadata": {},
   "outputs": [],
   "source": [
    "# Create a function that would act as a quiz handout\n",
    "def answer_sheet(test,num_questions):\n",
    "    answers = {1:''}\n",
    "    question_number = 1\n",
    "    for line in test.split('\\n'):\n",
    "        if line.startswith('Correct Answer:'):\n",
    "            answers[question_number] += line+'\\n'\n",
    "            if question_number < num_questions:\n",
    "                question_number += 1\n",
    "                answers[question_number] = ''\n",
    "    return answers"
   ]
  },
  {
   "cell_type": "code",
   "execution_count": 32,
   "metadata": {},
   "outputs": [
    {
     "data": {
      "text/plain": [
       "{1: '\\n\\n1. What is the process of erosion?\\nA) Melting\\nB) Moving\\nC) Breaking\\nD) Growing\\n',\n",
       " 2: '\\n2. What is the study of the Earth’s history, composition, and structure called?\\nA) Geography\\nB) Paleontology\\nC) Geology\\nD) Ecology\\n',\n",
       " 3: '\\n3. What is the study of fossils called?\\nA) Geology\\nB) Paleontology\\nC) Ecology\\nD) Geography\\n',\n",
       " 4: '\\n4. What type of rock is formed from solidified lava?\\nA) Metamorphic\\nB) Igneous\\nC) Sedimentary\\nD) Volcanic\\n'}"
      ]
     },
     "execution_count": 32,
     "metadata": {},
     "output_type": "execute_result"
    }
   ],
   "source": [
    "create_student_view(response['choices'][0]['text'],4)"
   ]
  },
  {
   "cell_type": "code",
   "execution_count": 33,
   "metadata": {},
   "outputs": [
    {
     "data": {
      "text/plain": [
       "{1: 'Correct Answer: B) Moving\\n',\n",
       " 2: 'Correct Answer: C) Geology\\n',\n",
       " 3: 'Correct Answer: B) Paleontology\\n',\n",
       " 4: 'Correct Answer: B) Igneous\\n'}"
      ]
     },
     "execution_count": 33,
     "metadata": {},
     "output_type": "execute_result"
    }
   ],
   "source": [
    "answer_sheet(response['choices'][0]['text'],4)"
   ]
  },
  {
   "cell_type": "code",
   "execution_count": null,
   "metadata": {},
   "outputs": [],
   "source": []
  }
 ],
 "metadata": {
  "kernelspec": {
   "display_name": "obb",
   "language": "python",
   "name": "python3"
  },
  "language_info": {
   "codemirror_mode": {
    "name": "ipython",
    "version": 3
   },
   "file_extension": ".py",
   "mimetype": "text/x-python",
   "name": "python",
   "nbconvert_exporter": "python",
   "pygments_lexer": "ipython3",
   "version": "3.9.6"
  },
  "orig_nbformat": 4
 },
 "nbformat": 4,
 "nbformat_minor": 2
}
